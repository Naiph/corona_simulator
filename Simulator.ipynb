{
 "cells": [
  {
   "cell_type": "code",
   "execution_count": 34,
   "metadata": {},
   "outputs": [],
   "source": [
    "from scipy.spatial import distance\n",
    "import matplotlib.pyplot as plt"
   ]
  },
  {
   "cell_type": "code",
   "execution_count": 35,
   "metadata": {},
   "outputs": [],
   "source": [
    "class Person(object):\n",
    "    def __init__(self,x,y,h,ID):\n",
    "        self.x =  x\n",
    "        self.y = y\n",
    "        \n",
    "        self.li = ['Normal','Infected', 'Recovered', 'Dead']\n",
    "        self.health = self.li[h]\n",
    "        self.id =  ID\n",
    "        self.loc = [self.x,self.y]\n",
    "        self.neigh = []\n",
    "        \n",
    "    def caldist(self,a1,a2):\n",
    "        return distance.euclidean(a1,a2)\n",
    "    \n",
    "    def MySent(self):\n",
    "        print(\"I'm {0}. My health condition is {1} and I'm located at {2}\".format(self.id,\n",
    "                                                                                        self.health,\n",
    "                                                                                        self.loc))\n",
    "  \n",
    "    def loc1(self):\n",
    "#    def loc(self):\n",
    "        return self.loc"
   ]
  },
  {
   "cell_type": "code",
   "execution_count": 52,
   "metadata": {},
   "outputs": [],
   "source": [
    "import random\n",
    "xmax = 10\n",
    "ymax = 10\n",
    "\n",
    "x_vals = []\n",
    "for i in range(xmax):\n",
    "    a = random.randint(0,xmax)\n",
    "    x_vals.append(a)\n",
    "\n",
    "y_vals = []\n",
    "for i in range(ymax):\n",
    "    a = random.randint(0,ymax)\n",
    "    y_vals.append(a)\n",
    "\n",
    "\n",
    "# create people\n",
    "## Person (x = x_coordinate, y = y_coordinate, h = health[0,1,2,3], ID = some no)\n",
    "p1 = Person(x_vals[0], y_vals[0], 0, 0)\n",
    "p2 = Person(x_vals[1], y_vals[1], 0, 1)\n",
    "p3 = Person(x_vals[2], y_vals[2], 0, 2)\n",
    "p4 = Person(x_vals[3], y_vals[3], 0, 3)\n",
    "p5 = Person(x_vals[4], y_vals[4], 1, 4)\n",
    "p6 = Person(x_vals[5], y_vals[5], 0, 5)\n",
    "p7 = Person(x_vals[6], y_vals[6], 0, 6)\n",
    "p8 = Person(x_vals[7], y_vals[7], 0, 7)\n",
    "p9 = Person(x_vals[8], y_vals[8], 0, 8)\n",
    "p10 = Person(x_vals[9], y_vals[9], 1, 9)\n",
    "\n",
    "plist = [p1,p2,p3,p4,p5,p6,p7,p8,p9,p10]\n",
    "\n",
    "# p = []\n",
    "# for i in range(10):\n",
    "#     p.append(Person(x_vals))\n"
   ]
  },
  {
   "cell_type": "code",
   "execution_count": 53,
   "metadata": {},
   "outputs": [
    {
     "data": {
      "image/png": "[encoded data removed]",
      "text/plain": [
       "<Figure size 432x288 with 1 Axes>"
      ]
     },
     "metadata": {
      "needs_background": "light"
     },
     "output_type": "display_data"
    }
   ],
   "source": [
    "def funct():\n",
    "    l_normal_x = []\n",
    "    l_normal_y = []\n",
    "\n",
    "    l_infec_x = []\n",
    "    l_infec_y = []\n",
    "\n",
    "    l_recov_x = []\n",
    "    l_recov_y = []\n",
    "\n",
    "    l_dead_x = []\n",
    "    l_dead_y = []\n",
    "\n",
    "\n",
    "    for i in range(len(plist)):\n",
    "        if plist[i].health == 'Normal': # normal\n",
    "            l_normal_x.append(plist[i].x)\n",
    "            l_normal_y.append(plist[i].y)\n",
    "\n",
    "        elif plist[i].health == 'Infected': # infected\n",
    "            l_infec_x.append(plist[i].x)\n",
    "            l_infec_y.append(plist[i].y)\n",
    "\n",
    "        elif plist[i].health == 'Recovered': # recovered \n",
    "            l_recov_x.append(plist[i].x)\n",
    "            l_recov_y.append(plist[i].y)\n",
    "\n",
    "        elif plist[i].health == 'Dead': # dead \n",
    "            l_dead_x.append(plist[i].x)\n",
    "            l_dead_y.append(plist[i].y)\n",
    "            \n",
    "    plt.scatter(l_normal_x,l_normal_y,marker='o', color='green')\n",
    "    plt.scatter(l_infec_x,l_infec_y,marker='*', color='red')\n",
    "    plt.scatter(l_recov_x,l_recov_y,marker='o', color='blue')\n",
    "    plt.scatter(l_dead_x,l_dead_y,marker='*', color='black')\n",
    "    \n",
    "    \n",
    "funct()\n",
    "\n",
    "# Calculating distances\n",
    "radius = 3\n",
    "\n",
    "for i in range(len(plist)):\n",
    "    for j in range(len(plist)):\n",
    "        res = p1.caldist(plist[i].loc, plist[j].loc)\n",
    "        #print('dist of ' + str( plist[i].id) + ' to ' + str(plist[j].id) + ' is ' + str(res))\n",
    "        if res <= radius:\n",
    "            plist[i].neigh.append(plist[j].id)\n",
    "        \n",
    "        if plist[i].health == 'Infected' and res <= radius:\n",
    "            plist[j].health = 'Infected'\n",
    "            "
   ]
  },
  {
   "cell_type": "code",
   "execution_count": 61,
   "metadata": {},
   "outputs": [
    {
     "data": {
      "image/png": "[encoded data removed]",
      "text/plain": [
       "<Figure size 432x288 with 1 Axes>"
      ]
     },
     "metadata": {
      "needs_background": "light"
     },
     "output_type": "display_data"
    }
   ],
   "source": [
    "funct()"
   ]
  },
  {
   "cell_type": "code",
   "execution_count": 26,
   "metadata": {},
   "outputs": [
    {
     "data": {
      "image/png": "[encoded data removed]",
      "text/plain": [
       "<Figure size 432x288 with 1 Axes>"
      ]
     },
     "metadata": {
      "needs_background": "light"
     },
     "output_type": "display_data"
    }
   ],
   "source": [
    "list1 = []\n",
    "h =[]\n",
    "for i in range(len(plist)):\n",
    "    list1.append(plist[i].id)\n",
    "    \n",
    "\n",
    "for i in plist:\n",
    "    h.append(len(i.neigh))\n",
    "\n",
    "\n",
    "#list1\n",
    "plt.bar(list1, h);"
   ]
  },
  {
   "cell_type": "code",
   "execution_count": 27,
   "metadata": {},
   "outputs": [
    {
     "data": {
      "text/plain": [
       "[20, 10, 10, 20, 10, 10, 10, 20, 10, 20]"
      ]
     },
     "execution_count": 27,
     "metadata": {},
     "output_type": "execute_result"
    }
   ],
   "source": [
    "h"
   ]
  },
  {
   "cell_type": "code",
   "execution_count": null,
   "metadata": {},
   "outputs": [],
   "source": []
  }
 ],
 "metadata": {
  "kernelspec": {
   "display_name": "Python 3",
   "language": "python",
   "name": "python3"
  },
  "language_info": {
   "codemirror_mode": {
    "name": "ipython",
    "version": 3
   },
   "file_extension": ".py",
   "mimetype": "text/x-python",
   "name": "python",
   "nbconvert_exporter": "python",
   "pygments_lexer": "ipython3",
   "version": "3.7.3"
  }
 },
 "nbformat": 4,
 "nbformat_minor": 2
}

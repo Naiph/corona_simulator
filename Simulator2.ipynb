{
 "cells": [
  {
   "cell_type": "code",
   "execution_count": 2,
   "metadata": {},
   "outputs": [],
   "source": [
    "from scipy.spatial import distance\n",
    "import matplotlib.pyplot as plt\n",
    "import random"
   ]
  },
  {
   "cell_type": "code",
   "execution_count": 20,
   "metadata": {
    "scrolled": true
   },
   "outputs": [],
   "source": [
    "maxx = 100\n",
    "no_of_people = 24\n",
    "radius = 10\n",
    "\n",
    "class Person(object):\n",
    "    def __init__(self,x,y,h,ID):\n",
    "        self.x =  x\n",
    "        self.y = y\n",
    "        \n",
    "        self.li = ['Normal','Infected', 'Recovered', 'Dead']\n",
    "        self.health = self.li[h]\n",
    "        self.id =  ID\n",
    "        self.loc = [self.x,self.y]\n",
    "        self.neigh = []\n",
    "        \n",
    "    def caldist(self,a):\n",
    "        return distance.euclidean(self.loc,a.loc)\n",
    "    \n",
    "    def MySent(self):\n",
    "        return (\"I'm {0}. My health condition is {1} and I'm located at {2}\".format(self.id,\n",
    "                                                                                        self.health,\n",
    "                                                                                        self.loc))\n",
    "  \n",
    "    def loc1(self):\n",
    "#    def loc(self):\n",
    "        return self.loc\n",
    "\n",
    "x_vals = []\n",
    "for i in range(no_of_people):\n",
    "    a = random.randint(0,maxx)\n",
    "    x_vals.append(a)\n",
    "\n",
    "y_vals = []\n",
    "for i in range(no_of_people):\n",
    "    a = random.randint(0,maxx)\n",
    "    y_vals.append(a)\n",
    "    \n",
    "    \n",
    "# creating people\n",
    "## Person (x = x_coordinate, y = y_coordinate, h = health[0,1,2,3], ID = some no)\n",
    "people = []\n",
    "for i in range(no_of_people):\n",
    "    people.append(Person(x_vals[i], y_vals[i], random.randint(0,3), i))\n",
    "\n",
    "\n",
    "\n",
    "def plotting():\n",
    "    \n",
    "    l_normal_x = []\n",
    "    l_normal_y = []\n",
    "\n",
    "    l_infec_x = []\n",
    "    l_infec_y = []\n",
    "\n",
    "    l_recov_x = []\n",
    "    l_recov_y = []\n",
    "\n",
    "    l_dead_x = []\n",
    "    l_dead_y = []\n",
    "\n",
    "\n",
    "    for i in range(no_of_people):\n",
    "        if people[i].health == 'Normal': # normal\n",
    "            l_normal_x.append(people[i].x)\n",
    "            l_normal_y.append(people[i].y)\n",
    "\n",
    "        elif people[i].health == 'Infected': # infected\n",
    "            l_infec_x.append(people[i].x)\n",
    "            l_infec_y.append(people[i].y)\n",
    "\n",
    "        elif people[i].health == 'Recovered': # recovered \n",
    "            l_recov_x.append(people[i].x)\n",
    "            l_recov_y.append(people[i].y)\n",
    "\n",
    "        elif people[i].health == 'Dead': # dead \n",
    "            l_dead_x.append(people[i].x)\n",
    "            l_dead_y.append(people[i].y)\n",
    "            \n",
    "    n_plot = plt.scatter(l_normal_x,l_normal_y,marker='o', color='green')\n",
    "    i_plot =  plt.scatter(l_infec_x,l_infec_y,marker='*', color='red')\n",
    "    r_plot = plt.scatter(l_recov_x,l_recov_y,marker='o', color='blue')\n",
    "    d_plot = plt.scatter(l_dead_x,l_dead_y,marker='*', color='black', )\n",
    "    \n",
    "    print('Normal (green): ' + str(len(l_normal_x)))\n",
    "    print('Infected (red): ' + str(len(l_infec_x)))\n",
    "    print('Recovered (blue): ' + str(len(l_recov_x)))\n",
    "    print('Dead (black): ' + str(len(l_dead_x)))\n",
    "    plt.legend((n_plot,i_plot,r_plot, d_plot), ('Normal', 'Infected', 'Recovered', 'Dead'), loc = 0)\n",
    "\n",
    "\n",
    "# Calculating distances\n",
    "\n",
    "def calneigh():\n",
    "    for i in people:\n",
    "        for j in people:\n",
    "            res = i.caldist(j)\n",
    "\n",
    "            \n",
    "## complete this -- \n",
    "\n",
    "def calc():\n",
    "    for i in range(no_of_people):\n",
    "        for j in range(no_of_people):\n",
    "            res = people[i].caldist(people[i].loc, people[j].loc)\n",
    "            #print('dist of ' + str( people[i].id) + ' to ' + str(people[j].id) + ' is ' + str(res))\n",
    "            if res <= radius:\n",
    "                people[i].neigh.append(people[j].id)\n",
    "\n",
    "            if people[i].health == 'Infected' and people[j].health == 'Normal' and res <= radius :\n",
    "                people[j].health = 'Infected'\n"
   ]
  },
  {
   "cell_type": "code",
   "execution_count": 21,
   "metadata": {},
   "outputs": [
    {
     "name": "stdout",
     "output_type": "stream",
     "text": [
      "Normal (green): 4\n",
      "Infected (red): 4\n",
      "Recovered (blue): 8\n",
      "Dead (black): 8\n"
     ]
    },
    {
     "data": {
      "image/png": "[encoded data removed]",
      "text/plain": [
       "<Figure size 432x288 with 1 Axes>"
      ]
     },
     "metadata": {
      "needs_background": "light"
     },
     "output_type": "display_data"
    }
   ],
   "source": [
    "plotting()"
   ]
  },
  {
   "cell_type": "code",
   "execution_count": 19,
   "metadata": {},
   "outputs": [
    {
     "name": "stdout",
     "output_type": "stream",
     "text": [
      "Normal (green): 6\n",
      "Infected (red): 5\n",
      "Recovered (blue): 10\n",
      "Dead (black): 3\n"
     ]
    },
    {
     "data": {
      "image/png": "[encoded data removed]",
      "text/plain": [
       "<Figure size 432x288 with 1 Axes>"
      ]
     },
     "metadata": {
      "needs_background": "light"
     },
     "output_type": "display_data"
    }
   ],
   "source": [
    "calc()\n",
    "plotting()"
   ]
  },
  {
   "cell_type": "code",
   "execution_count": 16,
   "metadata": {},
   "outputs": [
    {
     "name": "stdout",
     "output_type": "stream",
     "text": [
      "Normal (green): 4\n",
      "Infected (red): 4\n",
      "Recovered (blue): 8\n",
      "Dead (black): 8\n"
     ]
    },
    {
     "data": {
      "image/png": "[encoded data removed]",
      "text/plain": [
       "<Figure size 432x288 with 1 Axes>"
      ]
     },
     "metadata": {
      "needs_background": "light"
     },
     "output_type": "display_data"
    }
   ],
   "source": [
    "calc()\n",
    "plotting()"
   ]
  },
  {
   "cell_type": "code",
   "execution_count": 97,
   "metadata": {},
   "outputs": [
    {
     "name": "stdout",
     "output_type": "stream",
     "text": [
      "Normal (green): 4\n",
      "Infected (red): 40\n",
      "Recovered (blue): 23\n",
      "Dead (black): 33\n"
     ]
    },
    {
     "data": {
      "image/png": "[encoded data removed]",
      "text/plain": [
       "<Figure size 432x288 with 1 Axes>"
      ]
     },
     "metadata": {
      "needs_background": "light"
     },
     "output_type": "display_data"
    }
   ],
   "source": [
    "calc()\n",
    "plotting()"
   ]
  },
  {
   "cell_type": "code",
   "execution_count": 78,
   "metadata": {},
   "outputs": [
    {
     "data": {
      "image/png": "[encoded data removed]",
      "text/plain": [
       "<Figure size 432x288 with 1 Axes>"
      ]
     },
     "metadata": {
      "needs_background": "light"
     },
     "output_type": "display_data"
    }
   ],
   "source": [
    "list1 = []\n",
    "h =[]\n",
    "for i in range(maxx):\n",
    "    list1.append(people[i].id)\n",
    "    \n",
    "\n",
    "for i in people:\n",
    "    h.append(len(i.neigh))\n",
    "\n",
    "plt.bar(list1, h);"
   ]
  },
  {
   "cell_type": "code",
   "execution_count": 22,
   "metadata": {},
   "outputs": [],
   "source": [
    "# Make dense no. of people iwith small rad"
   ]
  },
  {
   "cell_type": "code",
   "execution_count": null,
   "metadata": {},
   "outputs": [],
   "source": []
  }
 ],
 "metadata": {
  "kernelspec": {
   "display_name": "Python 3",
   "language": "python",
   "name": "python3"
  },
  "language_info": {
   "codemirror_mode": {
    "name": "ipython",
    "version": 3
   },
   "file_extension": ".py",
   "mimetype": "text/x-python",
   "name": "python",
   "nbconvert_exporter": "python",
   "pygments_lexer": "ipython3",
   "version": "3.7.3"
  }
 },
 "nbformat": 4,
 "nbformat_minor": 2
}

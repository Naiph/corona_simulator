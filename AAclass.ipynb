{
 "cells": [
  {
   "cell_type": "code",
   "execution_count": 7,
   "metadata": {},
   "outputs": [],
   "source": [
    "class Foo(object):\n",
    "    pass"
   ]
  },
  {
   "cell_type": "code",
   "execution_count": 8,
   "metadata": {},
   "outputs": [],
   "source": [
    "f = Foo()"
   ]
  },
  {
   "cell_type": "code",
   "execution_count": 9,
   "metadata": {},
   "outputs": [
    {
     "data": {
      "text/plain": [
       "__main__.Foo"
      ]
     },
     "execution_count": 9,
     "metadata": {},
     "output_type": "execute_result"
    }
   ],
   "source": [
    "type(f)"
   ]
  },
  {
   "cell_type": "code",
   "execution_count": 10,
   "metadata": {},
   "outputs": [
    {
     "data": {
      "text/plain": [
       "139887893169544"
      ]
     },
     "execution_count": 10,
     "metadata": {},
     "output_type": "execute_result"
    }
   ],
   "source": [
    "id(f)"
   ]
  },
  {
   "cell_type": "code",
   "execution_count": 11,
   "metadata": {},
   "outputs": [
    {
     "data": {
      "text/plain": [
       "['__class__',\n",
       " '__delattr__',\n",
       " '__dict__',\n",
       " '__dir__',\n",
       " '__doc__',\n",
       " '__eq__',\n",
       " '__format__',\n",
       " '__ge__',\n",
       " '__getattribute__',\n",
       " '__gt__',\n",
       " '__hash__',\n",
       " '__init__',\n",
       " '__init_subclass__',\n",
       " '__le__',\n",
       " '__lt__',\n",
       " '__module__',\n",
       " '__ne__',\n",
       " '__new__',\n",
       " '__reduce__',\n",
       " '__reduce_ex__',\n",
       " '__repr__',\n",
       " '__setattr__',\n",
       " '__sizeof__',\n",
       " '__str__',\n",
       " '__subclasshook__',\n",
       " '__weakref__']"
      ]
     },
     "execution_count": 11,
     "metadata": {},
     "output_type": "execute_result"
    }
   ],
   "source": [
    "dir(foo)"
   ]
  },
  {
   "cell_type": "code",
   "execution_count": 23,
   "metadata": {},
   "outputs": [
    {
     "name": "stdout",
     "output_type": "stream",
     "text": [
      "<__main__.Foo object at 0x7f3a302e4588>\n",
      "<__main__.Foo object at 0x7f3a302e4588>\n"
     ]
    }
   ],
   "source": [
    "print(f.__str__())\n",
    "print(f) # They return the same thing"
   ]
  },
  {
   "cell_type": "code",
   "execution_count": 33,
   "metadata": {},
   "outputs": [
    {
     "name": "stdout",
     "output_type": "stream",
     "text": [
      "hello world\n"
     ]
    }
   ],
   "source": [
    "class Foo(object):\n",
    "    def baz(self, s):\n",
    "        print('hello',s)\n",
    "\n",
    "h = Foo() # create an object \n",
    "h.baz('world') # "
   ]
  },
  {
   "cell_type": "code",
   "execution_count": 35,
   "metadata": {},
   "outputs": [
    {
     "name": "stdout",
     "output_type": "stream",
     "text": [
      "hello world\n",
      "\n",
      "in __str__\n",
      "Foo\n",
      "\n",
      "<class '__main__.Foo'>\n",
      "139887773639400\n",
      "\n",
      "<class '__main__.Foo'>\n",
      "139887773639400\n",
      "\n",
      "<class 'function'>\n",
      "139887768284288\n",
      "in __str__\n",
      "Foo\n"
     ]
    }
   ],
   "source": [
    "class Foo(object):\n",
    "    def baz(self, s):\n",
    "        print('hello', s)\n",
    "        print()\n",
    "        print(self)\n",
    "        print()\n",
    "        print(type(self))\n",
    "        print(id(self))\n",
    "    \n",
    "    def __str__(self):\n",
    "        print('in __str__')\n",
    "        return 'Foo'\n",
    "\n",
    "h = Foo()\n",
    "h.baz('world')\n",
    "print()\n",
    "print(type(h))\n",
    "print(id(h))\n",
    "\n",
    "print()\n",
    "print(type(Foo.baz))\n",
    "print(id(Foo.baz))\n",
    "\n",
    "\n",
    "print(h)"
   ]
  },
  {
   "cell_type": "code",
   "execution_count": 43,
   "metadata": {},
   "outputs": [
    {
     "name": "stdout",
     "output_type": "stream",
     "text": [
      "hello, World\n"
     ]
    }
   ],
   "source": [
    "class Foo(object):\n",
    "    def __init__(self, s):\n",
    "        self.str = s\n",
    "\n",
    "    def baz(self):\n",
    "        print('hello,', self.str)\n",
    "\n",
    "f = Foo('World')\n",
    "f.baz()"
   ]
  },
  {
   "cell_type": "code",
   "execution_count": 44,
   "metadata": {},
   "outputs": [
    {
     "name": "stdout",
     "output_type": "stream",
     "text": [
      "hello, earth\n"
     ]
    }
   ],
   "source": [
    "j = Foo('earth')\n",
    "k = Foo('Mars')\n",
    "\n",
    "j.baz()"
   ]
  },
  {
   "cell_type": "code",
   "execution_count": 45,
   "metadata": {},
   "outputs": [
    {
     "name": "stdout",
     "output_type": "stream",
     "text": [
      "hello, Mars\n"
     ]
    }
   ],
   "source": [
    "k.baz()"
   ]
  },
  {
   "cell_type": "code",
   "execution_count": 46,
   "metadata": {},
   "outputs": [
    {
     "data": {
      "text/plain": [
       "['__class__',\n",
       " '__delattr__',\n",
       " '__dict__',\n",
       " '__dir__',\n",
       " '__doc__',\n",
       " '__eq__',\n",
       " '__format__',\n",
       " '__ge__',\n",
       " '__getattribute__',\n",
       " '__gt__',\n",
       " '__hash__',\n",
       " '__init__',\n",
       " '__init_subclass__',\n",
       " '__le__',\n",
       " '__lt__',\n",
       " '__module__',\n",
       " '__ne__',\n",
       " '__new__',\n",
       " '__reduce__',\n",
       " '__reduce_ex__',\n",
       " '__repr__',\n",
       " '__setattr__',\n",
       " '__sizeof__',\n",
       " '__str__',\n",
       " '__subclasshook__',\n",
       " '__weakref__',\n",
       " 'baz',\n",
       " 'str']"
      ]
     },
     "execution_count": 46,
     "metadata": {},
     "output_type": "execute_result"
    }
   ],
   "source": [
    "dir(f)"
   ]
  },
  {
   "cell_type": "code",
   "execution_count": 1,
   "metadata": {},
   "outputs": [
    {
     "data": {
      "text/plain": [
       "4.242640687119285"
      ]
     },
     "execution_count": 1,
     "metadata": {},
     "output_type": "execute_result"
    }
   ],
   "source": [
    "from scipy.spatial import distance\n",
    "a = [1,2]\n",
    "b = [4,5]\n",
    "\n",
    "class Somethin(object):\n",
    "    def caldist(self,x,y):\n",
    "        return distance.euclidean(x,y)\n",
    "    \n",
    "ob = Somethin()\n",
    "ob.caldist(a,b)\n"
   ]
  },
  {
   "cell_type": "code",
   "execution_count": 172,
   "metadata": {},
   "outputs": [
    {
     "name": "stdout",
     "output_type": "stream",
     "text": [
      "I'm 139768826196992. My health condition is Normal and I'm located at [3, 5] \n",
      "I'm 139768826196880. My health condition is Normal and I'm located at [7, 8] \n"
     ]
    }
   ],
   "source": [
    "# Create a Person class:\n",
    "# initialise either with input location or random location in the grid\n",
    "# create a distance method\n",
    "# and string method that prints location and health of the person\n",
    "\n",
    "import random\n",
    "\n",
    "xmax = 10\n",
    "ymax = 10\n",
    "\n",
    "class Person(object):\n",
    "    def __init__(self,):\n",
    "        self.x = random.randint(0,xmax)\n",
    "        self.y = random.randint(0,ymax)\n",
    "        self.loc = [self.x,self.y]\n",
    "        #self.d = {'Normal':1,'Infected':2,'Recovered':3,'Dead':4}\n",
    "        #self.health = self.d[random.choice(list(self.d))]\n",
    "        k = 0\n",
    "        self.li = ['Normal','Infected', 'Recovered', 'Dead']\n",
    "        #self.health = random.choice(li)\n",
    "        self.health = li[k]\n",
    "        self.ID = id(self)\n",
    "        \n",
    "        \n",
    "    def caldist(self,x,y):\n",
    "        return distance.euclidean(x,y)\n",
    "   \n",
    "    def loc(self):\n",
    "            return self.loc\n",
    "    \n",
    "    def health(self):\n",
    "        return self.health\n",
    "    \n",
    "    def ID(self):\n",
    "        return self.ID\n",
    "    \n",
    "    \n",
    "    def __str__(self):\n",
    "        return (\"I'm {0}. My health condition is {1} and I'm located at {2} \".format(self.ID,\n",
    "                                                                                        self.health,\n",
    "                                                                                        self.loc))\n",
    "        \n",
    "# creating people \n",
    "p1 = Person()\n",
    "a = p1.__str__()\n",
    "\n",
    "p2 = Person()\n",
    "b = p2.__str__()\n",
    "\n",
    "# calculates distance\n",
    "\n",
    "#p1.caldist(a,b)\n",
    "\n",
    "print(a)\n",
    "print(b)\n"
   ]
  },
  {
   "cell_type": "code",
   "execution_count": 152,
   "metadata": {},
   "outputs": [],
   "source": [
    "## make 100 normal individuals and 2-3 infected\n",
    "## closeness of people. How manuy people are close to one person or two persons and so on"
   ]
  },
  {
   "cell_type": "code",
   "execution_count": null,
   "metadata": {},
   "outputs": [],
   "source": []
  },
  {
   "cell_type": "code",
   "execution_count": null,
   "metadata": {},
   "outputs": [],
   "source": []
  }
 ],
 "metadata": {
  "kernelspec": {
   "display_name": "Python 3",
   "language": "python",
   "name": "python3"
  },
  "language_info": {
   "codemirror_mode": {
    "name": "ipython",
    "version": 3
   },
   "file_extension": ".py",
   "mimetype": "text/x-python",
   "name": "python",
   "nbconvert_exporter": "python",
   "pygments_lexer": "ipython3",
   "version": "3.7.3"
  }
 },
 "nbformat": 4,
 "nbformat_minor": 2
}
